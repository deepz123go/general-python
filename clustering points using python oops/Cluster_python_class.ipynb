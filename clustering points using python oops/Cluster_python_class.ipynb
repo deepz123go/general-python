{
 "cells": [
  {
   "cell_type": "markdown",
   "metadata": {},
   "source": [
    "# Class to create point object"
   ]
  },
  {
   "cell_type": "code",
   "execution_count": 2,
   "metadata": {},
   "outputs": [],
   "source": [
    "from math import sqrt\n",
    "\n",
    "class Point(object):\n",
    "\n",
    "    def __init__(self, x, y):\n",
    "        self.x=x\n",
    "        self.y=y\n",
    "    \n",
    "    def __repr__(self):\n",
    "        return \"Point(\"+str(self.x)+\", \"+str(self.y)+\")\"\n",
    "    def __add__(self,other):\n",
    "        return(Point((self.x+other.x),(self.y+other.y)))\n",
    "    def __sub__(self,other):\n",
    "        return(Point((self.x-other.x),(self.y-other.y)))\n",
    "    def __mul__(self,other):\n",
    "        if type(other)==int:\n",
    "            return(Point(other*self.x,other*self.y))\n",
    "        return(other.x*self.x+other.y*self.y)\n",
    "\n",
    "    def distance(self, other):\n",
    "        s1=self.x-other.x\n",
    "        s2=self.y-other.y\n",
    "        return(sqrt(s1**2+s2**2))"
   ]
  },
  {
   "cell_type": "code",
   "execution_count": 6,
   "metadata": {},
   "outputs": [
    {
     "name": "stdout",
     "output_type": "stream",
     "text": [
      "Addition:  Point(5, 8)\n",
      "Diff:  Point(-1, -2)\n",
      "Product:  21\n",
      "Product:  42\n",
      "Distance:  2.23606797749979\n"
     ]
    }
   ],
   "source": [
    "p1=Point(2,3)\n",
    "p2=Point(3,5)\n",
    "print(\"Addition: \",p1+p2)\n",
    "print(\"Diff: \",p1-p2)\n",
    "print(\"Product: \",p1*p2)\n",
    "print(\"Product: \",p1*p2*2)\n",
    "print(\"Distance: \",p1.distance(p2))"
   ]
  },
  {
   "cell_type": "markdown",
   "metadata": {},
   "source": [
    "# Cluster class with 2 objects. Set of points are assigned into either of clusters and retrieve new centroids of clusters"
   ]
  },
  {
   "cell_type": "code",
   "execution_count": 7,
   "metadata": {},
   "outputs": [],
   "source": [
    "class Cluster(object):\n",
    "    def __init__(self, x, y):\n",
    "        self.center = Point(x, y)\n",
    "        self.points = Point(0, 0)\n",
    "    \n",
    "    def update(self):\n",
    "        self.center.x=self.points.x/(self.l)\n",
    "        self.center.y=self.points.y/(self.l)\n",
    "        self.points=Point(0,0)\n",
    "        return(Cluster(self.center.x,self.center.y))\n",
    "\n",
    "    def add_point(self, point):\n",
    "        self.points.x=self.points.x+point.x\n",
    "        self.points.y=self.points.y+point.y"
   ]
  },
  {
   "cell_type": "code",
   "execution_count": 10,
   "metadata": {},
   "outputs": [],
   "source": [
    "def compute_result(points):\n",
    "    #print(points)\n",
    "    points = [Point(*point) for point in points]\n",
    "    a = Cluster(1,0)\n",
    "    b = Cluster(-1,0)\n",
    "    a_old = [a.center.x,a.center.y]\n",
    "    b_old=[b.center.x,b.center.y]\n",
    "    #print(a_old)\n",
    "    #print(b_old)\n",
    "    i=0\n",
    "    for _ in range(100): # max iterations\n",
    "        i+=1\n",
    "        #print(i)\n",
    "        a_po=[]\n",
    "        b_po=[]\n",
    "        for point in points:\n",
    "            if point.distance(a.center) <= point.distance(b.center):\n",
    "                a_po.append(point) \n",
    "                #print(point.x,point.y)\n",
    "            else:\n",
    "                b_po.append(point)\n",
    "                #print(point.x,point.y)\n",
    "        a.l=len(a_po)\n",
    "        b.l=len(b_po)\n",
    "        for p in a_po:\n",
    "            a.add_point(p)\n",
    "        for p in b_po:\n",
    "            b.add_point(p)\n",
    "        if len(a_po)!=0:\n",
    "            a.update()\n",
    "        if len(b_po)!=0:\n",
    "            b.update()\n",
    "        #print((a.center.x, a.center.y),(a_old[0], a_old[1]))\n",
    "        #print((b.center.x, b.center.y),(b_old[0], b_old[1]))\n",
    "        if a.center.x == a_old[0] and a.center.y == a_old[1] :\n",
    "            break\n",
    "        else:\n",
    "            a_old[0]=a.center.x\n",
    "            a_old[1]=a.center.y\n",
    "            b_old[0]=b.center.x\n",
    "            b_old[1]=b.center.y\n",
    "    return [(a.center.x, a.center.y),(b.center.x, b.center.y)]"
   ]
  },
  {
   "cell_type": "code",
   "execution_count": 12,
   "metadata": {},
   "outputs": [
    {
     "name": "stdout",
     "output_type": "stream",
     "text": [
      "1st centroid : (498.17391304347825, 171.1304347826087)\n",
      "2st centroid : (-387.25925925925924, -344.6296296296296)\n"
     ]
    }
   ],
   "source": [
    "c=compute_result([[-107, 630], [-790, -305], [-564, -387],\n",
    "                [-181, -68], [330, -474], [-295, -803], [407, -920],\n",
    "                [-640, 20], [943, 177], [428, -391], [-62, -335], [964, -98],\n",
    "                [-306, -540], [-103, -979], [393, 208], [-94, -689], [497, -273],\n",
    "                [201, 903], [965, 416], [-204, -928], [-809, -521], [116, -442], \n",
    "                [56, 292], [-1, -604], [-241, 54], [-473, -996], [-61, -70], [-496, -354],\n",
    "                [443, 539], [-786, 905], [620, 581], [-547, 588], [320, 102], [643, 964],\n",
    "                [-696, 219], [-449, -941], [685, 640], [-763, -178], [120, 638], [-419, -894],\n",
    "                [826, -216], [-583, -731], [-909, 170], [848, -749], [156, 946], [595, -172], [436, 93],\n",
    "                [561, 48], [535, -868], [-507, 424]])\n",
    "coun=1\n",
    "for i in c:\n",
    "    print(str(coun)+\"st centroid :\",i)\n",
    "    coun+=1"
   ]
  },
  {
   "cell_type": "code",
   "execution_count": null,
   "metadata": {},
   "outputs": [],
   "source": []
  }
 ],
 "metadata": {
  "kernelspec": {
   "display_name": "Python 3",
   "language": "python",
   "name": "python3"
  },
  "language_info": {
   "codemirror_mode": {
    "name": "ipython",
    "version": 3
   },
   "file_extension": ".py",
   "mimetype": "text/x-python",
   "name": "python",
   "nbconvert_exporter": "python",
   "pygments_lexer": "ipython3",
   "version": "3.7.3"
  }
 },
 "nbformat": 4,
 "nbformat_minor": 4
}
